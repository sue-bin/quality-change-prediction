{
 "cells": [
  {
   "cell_type": "markdown",
   "metadata": {
    "id": "FuYzChII2CX6"
   },
   "source": [
    "## 목차\n",
    "### 1. Library Import\n",
    "### 2. 학습데이터 생성\n",
    "### 3. Light-gbm 모델 훈련\n",
    "### 4. 교차 검증 점수 확인\n",
    "### 5. 제출 파일 생성"
   ]
  },
  {
   "cell_type": "markdown",
   "metadata": {
    "id": "1_ITsfQJ2CYC"
   },
   "source": [
    "# 1. Library Import"
   ]
  },
  {
   "cell_type": "code",
   "execution_count": 1,
   "metadata": {
    "executionInfo": {
     "elapsed": 8898,
     "status": "ok",
     "timestamp": 1612006293581,
     "user": {
      "displayName": "suebin",
      "photoUrl": "",
      "userId": "12546302886493983985"
     },
     "user_tz": -540
    },
    "id": "w9Icd66g2CYD"
   },
   "outputs": [],
   "source": [
    "import pandas as pd\n",
    "import numpy as np\n",
    "import datetime as dt\n",
    "import matplotlib.pyplot as plt\n",
    "from tqdm import tqdm\n",
    "import gc #garbage collection 감시\n",
    "import random\n",
    "import lightgbm as lgb\n",
    "import re\n",
    "from sklearn.metrics import *\n",
    "from sklearn.model_selection import KFold\n",
    "import warnings\n",
    "import seaborn as sns\n",
    "from functools import partial\n",
    "from bayes_opt import BayesianOptimization\n",
    "from lightgbm import LGBMClassifier\n",
    "\n",
    "warnings.filterwarnings(action='ignore')\n",
    "\n",
    "# 필요한 함수 정의\n",
    "def make_datetime(x):\n",
    "    # string 타입의 Time column을 datetime 타입으로 변경\n",
    "    x     = str(x)\n",
    "    year  = int(x[:4])\n",
    "    month = int(x[4:6])\n",
    "    day   = int(x[6:8])\n",
    "    hour  = int(x[8:10])\n",
    "    min  = int(x[10:12])\n",
    "    sec  = int(x[12:])\n",
    "    return dt.datetime(year, month, day, hour)\n",
    "\n",
    "def string2num(x):\n",
    "    # (,)( )과 같은 불필요한 데이터 정제\n",
    "    x = re.sub(r\"[^0-9]+\", '', str(x))\n",
    "    if x =='':\n",
    "        return 0\n",
    "    else:\n",
    "        return int(x)"
   ]
  },
  {
   "cell_type": "markdown",
   "metadata": {
    "id": "I4WUJPJ_2CYE"
   },
   "source": [
    "# 2. 학습 데이터 생성"
   ]
  },
  {
   "cell_type": "markdown",
   "metadata": {
    "id": "ICxPhxNo2CYF"
   },
   "source": [
    "## 2.1 train_err\n",
    "\n",
    "* train_err_data.csv 파일의 errtype column의 value_counts를 카운트하여 학습에 사용.  \n",
    "* 주어진 기간동안 user_id별로 peroblem가 한 번이라도 발생했는 지를 확인.  "
   ]
  },
  {
   "cell_type": "code",
   "execution_count": 2,
   "metadata": {},
   "outputs": [],
   "source": [
    "train = pd.read_csv(\"data/quality 수정.csv\")\n",
    "test = pd.read_csv(\"data/quality 수정_test.csv\")"
   ]
  },
  {
   "cell_type": "code",
   "execution_count": 3,
   "metadata": {},
   "outputs": [
    {
     "data": {
      "text/plain": [
       "Index(['Unnamed: 0', 'user_id', 'model_nm', 'update', 'err_1', 'err_2',\n",
       "       'err_3', 'err_4', 'err_5', 'err_6', 'err_7', 'err_8', 'err_9', 'err_10',\n",
       "       'err_11', 'err_12', 'err_13', 'err_14', 'err_15', 'err_16', 'err_17',\n",
       "       'err_18', 'err_19', 'err_20', 'err_21', 'err_22', 'err_23', 'err_24',\n",
       "       'err_25', 'err_26', 'err_27', 'err_28', 'err_30', 'err_31', 'err_32',\n",
       "       'err_33', 'err_34', 'err_35', 'err_36', 'err_37', 'err_38', 'err_39',\n",
       "       'err_40', 'err_41', 'err_42', 'fw_rank', 'q_meanmax_0', 'q_meanmax_1',\n",
       "       'q_meanmax_2', 'q_meanmax_5', 'q_meanmax_6', 'q_meanmax_7',\n",
       "       'q_meanmax_8', 'q_meanmax_9', 'q_meanmax_10', 'q_meanmax_11',\n",
       "       'q_meanmax_12', 'q_chg_0', 'q_chg_1', 'q_chg_2', 'q_chg_5', 'q_chg_6',\n",
       "       'q_chg_11', 'label'],\n",
       "      dtype='object')"
      ]
     },
     "execution_count": 3,
     "metadata": {},
     "output_type": "execute_result"
    }
   ],
   "source": [
    "train.columns"
   ]
  },
  {
   "cell_type": "code",
   "execution_count": 5,
   "metadata": {
    "colab": {
     "base_uri": "https://localhost:8080/",
     "height": 376
    },
    "executionInfo": {
     "elapsed": 690,
     "status": "error",
     "timestamp": 1612006562961,
     "user": {
      "displayName": "suebin",
      "photoUrl": "",
      "userId": "12546302886493983985"
     },
     "user_tz": -540
    },
    "id": "PMRRu4Ua2CYK",
    "outputId": "c010b10a-0cf5-425b-9b13-5fbbe9efad71"
   },
   "outputs": [],
   "source": [
    "train_x = train.drop(columns=[\"label\",\"Unnamed: 0\",\"user_id\"])\n",
    "\n",
    "train_y = train[\"label\"]\n",
    "\n",
    "test_x = train.drop(columns=[\"Unnamed: 0\",\"user_id\"])"
   ]
  },
  {
   "cell_type": "code",
   "execution_count": 11,
   "metadata": {
    "id": "WsQAG09scbTH"
   },
   "outputs": [],
   "source": [
    "def lgbm_cv(colsample_bytree, \n",
    "            learning_rate,\n",
    "            max_depth,\n",
    "            n_estimators,\n",
    "            num_leaves,\n",
    "          x_data=None, y_data=None, n_splits=5, output='score'):\n",
    "    \n",
    "    score = 0\n",
    "    kf = KFold(n_splits=n_splits, random_state=342)\n",
    "    models = []\n",
    "    for train_index, valid_index in kf.split(x_data):\n",
    "        x_train, y_train = x_data.iloc[train_index,:], y_data[train_index]\n",
    "        x_valid, y_valid = x_data.iloc[valid_index,:], y_data[valid_index]\n",
    "\n",
    "        model = LGBMClassifier(\n",
    "            colsample_bytree = colsample_bytree,\n",
    "            learning_rate = learning_rate,\n",
    "            max_depth = int(max_depth),\n",
    "            n_estimators = int(n_estimators),\n",
    "            num_leaves = int(num_leaves),\n",
    "            objective = \"binary\"\n",
    "        )\n",
    "        \n",
    "        model.fit(x_train, y_train)\n",
    "        models.append(model)\n",
    "        \n",
    "        prob = model.predict(x_valid)\n",
    "        pred = np.where(prob > 0.5, 1, 0)\n",
    "        true = y_valid\n",
    "        score += roc_auc_score(true, pred)/n_splits\n",
    "    \n",
    "    if output == 'score':\n",
    "        return score\n",
    "    if output == 'model':\n",
    "        return models"
   ]
  },
  {
   "cell_type": "code",
   "execution_count": 16,
   "metadata": {
    "colab": {
     "base_uri": "https://localhost:8080/"
    },
    "executionInfo": {
     "elapsed": 382546,
     "status": "ok",
     "timestamp": 1610373256884,
     "user": {
      "displayName": "suebin",
      "photoUrl": "",
      "userId": "12546302886493983985"
     },
     "user_tz": -540
    },
    "id": "5wD-bOHykuxN",
    "outputId": "d5589355-3525-4c3a-f23d-9ec97610ccfa"
   },
   "outputs": [
    {
     "name": "stdout",
     "output_type": "stream",
     "text": [
      "|   iter    |  target   | colsam... | learni... | max_depth | n_esti... | num_le... |\n",
      "-------------------------------------------------------------------------------------\n",
      "| \u001b[0m 1       \u001b[0m | \u001b[0m 0.7217  \u001b[0m | \u001b[0m 0.8033  \u001b[0m | \u001b[0m 0.06258 \u001b[0m | \u001b[0m 426.7   \u001b[0m | \u001b[0m 131.5   \u001b[0m | \u001b[0m 496.1   \u001b[0m |\n",
      "| \u001b[0m 2       \u001b[0m | \u001b[0m 0.713   \u001b[0m | \u001b[0m 0.9131  \u001b[0m | \u001b[0m 0.0135  \u001b[0m | \u001b[0m 915.2   \u001b[0m | \u001b[0m 106.1   \u001b[0m | \u001b[0m 108.4   \u001b[0m |\n",
      "| \u001b[0m 3       \u001b[0m | \u001b[0m 0.7167  \u001b[0m | \u001b[0m 0.1651  \u001b[0m | \u001b[0m 0.05129 \u001b[0m | \u001b[0m 708.4   \u001b[0m | \u001b[0m 148.3   \u001b[0m | \u001b[0m 15.27   \u001b[0m |\n",
      "| \u001b[0m 4       \u001b[0m | \u001b[0m 0.7152  \u001b[0m | \u001b[0m 0.1602  \u001b[0m | \u001b[0m 0.04833 \u001b[0m | \u001b[0m 219.2   \u001b[0m | \u001b[0m 181.0   \u001b[0m | \u001b[0m 84.03   \u001b[0m |\n",
      "| \u001b[0m 5       \u001b[0m | \u001b[0m 0.7214  \u001b[0m | \u001b[0m 0.7761  \u001b[0m | \u001b[0m 0.03512 \u001b[0m | \u001b[0m 949.1   \u001b[0m | \u001b[0m 188.5   \u001b[0m | \u001b[0m 366.1   \u001b[0m |\n",
      "| \u001b[0m 6       \u001b[0m | \u001b[0m 0.718   \u001b[0m | \u001b[0m 0.8863  \u001b[0m | \u001b[0m 0.02317 \u001b[0m | \u001b[0m 432.5   \u001b[0m | \u001b[0m 134.4   \u001b[0m | \u001b[0m 504.1   \u001b[0m |\n",
      "| \u001b[0m 7       \u001b[0m | \u001b[0m 0.7204  \u001b[0m | \u001b[0m 0.9564  \u001b[0m | \u001b[0m 0.03725 \u001b[0m | \u001b[0m 424.9   \u001b[0m | \u001b[0m 124.2   \u001b[0m | \u001b[0m 496.8   \u001b[0m |\n",
      "| \u001b[0m 8       \u001b[0m | \u001b[0m 0.7214  \u001b[0m | \u001b[0m 0.9028  \u001b[0m | \u001b[0m 0.05555 \u001b[0m | \u001b[0m 949.9   \u001b[0m | \u001b[0m 188.5   \u001b[0m | \u001b[0m 367.3   \u001b[0m |\n",
      "| \u001b[0m 9       \u001b[0m | \u001b[0m 0.7206  \u001b[0m | \u001b[0m 0.9254  \u001b[0m | \u001b[0m 0.08167 \u001b[0m | \u001b[0m 418.3   \u001b[0m | \u001b[0m 135.8   \u001b[0m | \u001b[0m 488.5   \u001b[0m |\n",
      "| \u001b[0m 10      \u001b[0m | \u001b[0m 0.7196  \u001b[0m | \u001b[0m 0.6481  \u001b[0m | \u001b[0m 0.08483 \u001b[0m | \u001b[0m 946.7   \u001b[0m | \u001b[0m 167.4   \u001b[0m | \u001b[0m 365.0   \u001b[0m |\n",
      "| \u001b[95m 11      \u001b[0m | \u001b[95m 0.7237  \u001b[0m | \u001b[95m 0.9534  \u001b[0m | \u001b[95m 0.0582  \u001b[0m | \u001b[95m 434.2   \u001b[0m | \u001b[95m 124.8   \u001b[0m | \u001b[95m 468.2   \u001b[0m |\n",
      "| \u001b[0m 12      \u001b[0m | \u001b[0m 0.722   \u001b[0m | \u001b[0m 0.8121  \u001b[0m | \u001b[0m 0.04852 \u001b[0m | \u001b[0m 437.1   \u001b[0m | \u001b[0m 140.4   \u001b[0m | \u001b[0m 470.7   \u001b[0m |\n",
      "| \u001b[0m 13      \u001b[0m | \u001b[0m 0.7191  \u001b[0m | \u001b[0m 0.3694  \u001b[0m | \u001b[0m 0.08823 \u001b[0m | \u001b[0m 439.1   \u001b[0m | \u001b[0m 118.7   \u001b[0m | \u001b[0m 480.7   \u001b[0m |\n",
      "| \u001b[0m 14      \u001b[0m | \u001b[0m 0.6977  \u001b[0m | \u001b[0m 0.1186  \u001b[0m | \u001b[0m 0.05004 \u001b[0m | \u001b[0m 423.2   \u001b[0m | \u001b[0m 114.1   \u001b[0m | \u001b[0m 460.2   \u001b[0m |\n",
      "| \u001b[0m 15      \u001b[0m | \u001b[0m 0.7154  \u001b[0m | \u001b[0m 0.4687  \u001b[0m | \u001b[0m 0.01567 \u001b[0m | \u001b[0m 441.9   \u001b[0m | \u001b[0m 128.4   \u001b[0m | \u001b[0m 463.9   \u001b[0m |\n",
      "| \u001b[0m 16      \u001b[0m | \u001b[0m 0.7231  \u001b[0m | \u001b[0m 0.5658  \u001b[0m | \u001b[0m 0.04739 \u001b[0m | \u001b[0m 425.5   \u001b[0m | \u001b[0m 135.4   \u001b[0m | \u001b[0m 463.6   \u001b[0m |\n",
      "| \u001b[0m 17      \u001b[0m | \u001b[0m 0.7196  \u001b[0m | \u001b[0m 0.6445  \u001b[0m | \u001b[0m 0.08661 \u001b[0m | \u001b[0m 435.3   \u001b[0m | \u001b[0m 142.9   \u001b[0m | \u001b[0m 482.7   \u001b[0m |\n",
      "| \u001b[0m 18      \u001b[0m | \u001b[0m 0.7191  \u001b[0m | \u001b[0m 0.2725  \u001b[0m | \u001b[0m 0.07022 \u001b[0m | \u001b[0m 429.6   \u001b[0m | \u001b[0m 144.6   \u001b[0m | \u001b[0m 455.2   \u001b[0m |\n",
      "| \u001b[0m 19      \u001b[0m | \u001b[0m 0.7205  \u001b[0m | \u001b[0m 0.6968  \u001b[0m | \u001b[0m 0.07406 \u001b[0m | \u001b[0m 957.6   \u001b[0m | \u001b[0m 183.7   \u001b[0m | \u001b[0m 355.7   \u001b[0m |\n",
      "| \u001b[0m 20      \u001b[0m | \u001b[0m 0.716   \u001b[0m | \u001b[0m 0.5222  \u001b[0m | \u001b[0m 0.01483 \u001b[0m | \u001b[0m 426.8   \u001b[0m | \u001b[0m 134.0   \u001b[0m | \u001b[0m 479.2   \u001b[0m |\n",
      "| \u001b[0m 21      \u001b[0m | \u001b[0m 0.7183  \u001b[0m | \u001b[0m 0.6214  \u001b[0m | \u001b[0m 0.05915 \u001b[0m | \u001b[0m 413.6   \u001b[0m | \u001b[0m 127.6   \u001b[0m | \u001b[0m 500.3   \u001b[0m |\n",
      "| \u001b[0m 22      \u001b[0m | \u001b[0m 0.7214  \u001b[0m | \u001b[0m 0.6931  \u001b[0m | \u001b[0m 0.08631 \u001b[0m | \u001b[0m 420.0   \u001b[0m | \u001b[0m 146.1   \u001b[0m | \u001b[0m 466.3   \u001b[0m |\n",
      "| \u001b[0m 23      \u001b[0m | \u001b[0m 0.7145  \u001b[0m | \u001b[0m 0.7964  \u001b[0m | \u001b[0m 0.01101 \u001b[0m | \u001b[0m 420.8   \u001b[0m | \u001b[0m 155.2   \u001b[0m | \u001b[0m 476.0   \u001b[0m |\n",
      "| \u001b[0m 24      \u001b[0m | \u001b[0m 0.7161  \u001b[0m | \u001b[0m 0.2766  \u001b[0m | \u001b[0m 0.09077 \u001b[0m | \u001b[0m 428.7   \u001b[0m | \u001b[0m 144.4   \u001b[0m | \u001b[0m 467.3   \u001b[0m |\n",
      "| \u001b[0m 25      \u001b[0m | \u001b[0m 0.7208  \u001b[0m | \u001b[0m 0.7136  \u001b[0m | \u001b[0m 0.07633 \u001b[0m | \u001b[0m 414.5   \u001b[0m | \u001b[0m 139.6   \u001b[0m | \u001b[0m 461.8   \u001b[0m |\n",
      "| \u001b[0m 26      \u001b[0m | \u001b[0m 0.7228  \u001b[0m | \u001b[0m 0.7713  \u001b[0m | \u001b[0m 0.03478 \u001b[0m | \u001b[0m 427.9   \u001b[0m | \u001b[0m 141.6   \u001b[0m | \u001b[0m 493.8   \u001b[0m |\n",
      "| \u001b[0m 27      \u001b[0m | \u001b[0m 0.7209  \u001b[0m | \u001b[0m 0.4358  \u001b[0m | \u001b[0m 0.07568 \u001b[0m | \u001b[0m 421.2   \u001b[0m | \u001b[0m 147.8   \u001b[0m | \u001b[0m 497.0   \u001b[0m |\n",
      "| \u001b[0m 28      \u001b[0m | \u001b[0m 0.7221  \u001b[0m | \u001b[0m 0.7602  \u001b[0m | \u001b[0m 0.05812 \u001b[0m | \u001b[0m 964.9   \u001b[0m | \u001b[0m 194.1   \u001b[0m | \u001b[0m 361.1   \u001b[0m |\n",
      "| \u001b[0m 29      \u001b[0m | \u001b[0m 0.7203  \u001b[0m | \u001b[0m 0.4396  \u001b[0m | \u001b[0m 0.09698 \u001b[0m | \u001b[0m 954.9   \u001b[0m | \u001b[0m 197.3   \u001b[0m | \u001b[0m 366.6   \u001b[0m |\n",
      "| \u001b[0m 30      \u001b[0m | \u001b[0m 0.7167  \u001b[0m | \u001b[0m 0.8024  \u001b[0m | \u001b[0m 0.01177 \u001b[0m | \u001b[0m 977.0   \u001b[0m | \u001b[0m 191.9   \u001b[0m | \u001b[0m 357.2   \u001b[0m |\n",
      "| \u001b[0m 31      \u001b[0m | \u001b[0m 0.7205  \u001b[0m | \u001b[0m 0.6148  \u001b[0m | \u001b[0m 0.077   \u001b[0m | \u001b[0m 433.7   \u001b[0m | \u001b[0m 149.4   \u001b[0m | \u001b[0m 492.6   \u001b[0m |\n",
      "| \u001b[0m 32      \u001b[0m | \u001b[0m 0.7219  \u001b[0m | \u001b[0m 0.5544  \u001b[0m | \u001b[0m 0.04687 \u001b[0m | \u001b[0m 937.3   \u001b[0m | \u001b[0m 180.6   \u001b[0m | \u001b[0m 364.7   \u001b[0m |\n",
      "| \u001b[0m 33      \u001b[0m | \u001b[0m 0.7203  \u001b[0m | \u001b[0m 0.2911  \u001b[0m | \u001b[0m 0.04789 \u001b[0m | \u001b[0m 934.1   \u001b[0m | \u001b[0m 188.3   \u001b[0m | \u001b[0m 368.8   \u001b[0m |\n",
      "| \u001b[0m 34      \u001b[0m | \u001b[0m 0.7223  \u001b[0m | \u001b[0m 0.9093  \u001b[0m | \u001b[0m 0.02595 \u001b[0m | \u001b[0m 962.1   \u001b[0m | \u001b[0m 193.4   \u001b[0m | \u001b[0m 351.5   \u001b[0m |\n",
      "| \u001b[0m 35      \u001b[0m | \u001b[0m 0.7208  \u001b[0m | \u001b[0m 0.427   \u001b[0m | \u001b[0m 0.08905 \u001b[0m | \u001b[0m 965.7   \u001b[0m | \u001b[0m 184.7   \u001b[0m | \u001b[0m 342.8   \u001b[0m |\n",
      "| \u001b[0m 36      \u001b[0m | \u001b[0m 0.7192  \u001b[0m | \u001b[0m 0.2574  \u001b[0m | \u001b[0m 0.02979 \u001b[0m | \u001b[0m 957.2   \u001b[0m | \u001b[0m 195.6   \u001b[0m | \u001b[0m 341.7   \u001b[0m |\n",
      "| \u001b[0m 37      \u001b[0m | \u001b[0m 0.7213  \u001b[0m | \u001b[0m 0.617   \u001b[0m | \u001b[0m 0.06483 \u001b[0m | \u001b[0m 966.3   \u001b[0m | \u001b[0m 197.5   \u001b[0m | \u001b[0m 371.7   \u001b[0m |\n",
      "| \u001b[0m 38      \u001b[0m | \u001b[0m 0.7214  \u001b[0m | \u001b[0m 0.9896  \u001b[0m | \u001b[0m 0.0804  \u001b[0m | \u001b[0m 945.7   \u001b[0m | \u001b[0m 196.5   \u001b[0m | \u001b[0m 350.9   \u001b[0m |\n",
      "| \u001b[0m 39      \u001b[0m | \u001b[0m 0.7186  \u001b[0m | \u001b[0m 0.2992  \u001b[0m | \u001b[0m 0.05842 \u001b[0m | \u001b[0m 430.6   \u001b[0m | \u001b[0m 130.8   \u001b[0m | \u001b[0m 465.6   \u001b[0m |\n",
      "| \u001b[0m 40      \u001b[0m | \u001b[0m 0.7216  \u001b[0m | \u001b[0m 0.8816  \u001b[0m | \u001b[0m 0.04473 \u001b[0m | \u001b[0m 953.3   \u001b[0m | \u001b[0m 180.0   \u001b[0m | \u001b[0m 365.1   \u001b[0m |\n",
      "| \u001b[0m 41      \u001b[0m | \u001b[0m 0.72    \u001b[0m | \u001b[0m 0.7288  \u001b[0m | \u001b[0m 0.07728 \u001b[0m | \u001b[0m 960.8   \u001b[0m | \u001b[0m 182.0   \u001b[0m | \u001b[0m 364.4   \u001b[0m |\n",
      "| \u001b[0m 42      \u001b[0m | \u001b[0m 0.7214  \u001b[0m | \u001b[0m 0.9961  \u001b[0m | \u001b[0m 0.09693 \u001b[0m | \u001b[0m 936.4   \u001b[0m | \u001b[0m 191.7   \u001b[0m | \u001b[0m 356.5   \u001b[0m |\n",
      "| \u001b[0m 43      \u001b[0m | \u001b[0m 0.7205  \u001b[0m | \u001b[0m 0.5677  \u001b[0m | \u001b[0m 0.01354 \u001b[0m | \u001b[0m 962.6   \u001b[0m | \u001b[0m 191.0   \u001b[0m | \u001b[0m 379.8   \u001b[0m |\n",
      "| \u001b[0m 44      \u001b[0m | \u001b[0m 0.7199  \u001b[0m | \u001b[0m 0.9902  \u001b[0m | \u001b[0m 0.03406 \u001b[0m | \u001b[0m 933.2   \u001b[0m | \u001b[0m 178.5   \u001b[0m | \u001b[0m 358.0   \u001b[0m |\n",
      "| \u001b[0m 45      \u001b[0m | \u001b[0m 0.7055  \u001b[0m | \u001b[0m 0.1079  \u001b[0m | \u001b[0m 0.03828 \u001b[0m | \u001b[0m 937.9   \u001b[0m | \u001b[0m 182.1   \u001b[0m | \u001b[0m 377.1   \u001b[0m |\n",
      "| \u001b[0m 46      \u001b[0m | \u001b[0m 0.703   \u001b[0m | \u001b[0m 0.1225  \u001b[0m | \u001b[0m 0.08505 \u001b[0m | \u001b[0m 422.6   \u001b[0m | \u001b[0m 141.4   \u001b[0m | \u001b[0m 501.4   \u001b[0m |\n",
      "| \u001b[0m 47      \u001b[0m | \u001b[0m 0.7127  \u001b[0m | \u001b[0m 0.1425  \u001b[0m | \u001b[0m 0.08742 \u001b[0m | \u001b[0m 960.6   \u001b[0m | \u001b[0m 188.0   \u001b[0m | \u001b[0m 346.2   \u001b[0m |\n",
      "| \u001b[0m 48      \u001b[0m | \u001b[0m 0.7197  \u001b[0m | \u001b[0m 0.3289  \u001b[0m | \u001b[0m 0.09666 \u001b[0m | \u001b[0m 431.5   \u001b[0m | \u001b[0m 125.0   \u001b[0m | \u001b[0m 471.8   \u001b[0m |\n",
      "| \u001b[0m 49      \u001b[0m | \u001b[0m 0.7206  \u001b[0m | \u001b[0m 0.9975  \u001b[0m | \u001b[0m 0.06096 \u001b[0m | \u001b[0m 957.3   \u001b[0m | \u001b[0m 194.7   \u001b[0m | \u001b[0m 351.2   \u001b[0m |\n",
      "| \u001b[0m 50      \u001b[0m | \u001b[0m 0.7171  \u001b[0m | \u001b[0m 0.3455  \u001b[0m | \u001b[0m 0.09313 \u001b[0m | \u001b[0m 423.5   \u001b[0m | \u001b[0m 132.7   \u001b[0m | \u001b[0m 464.5   \u001b[0m |\n"
     ]
    },
    {
     "ename": "KeyboardInterrupt",
     "evalue": "",
     "output_type": "error",
     "traceback": [
      "\u001b[0;31m---------------------------------------------------------------------------\u001b[0m",
      "\u001b[0;31mKeyError\u001b[0m                                  Traceback (most recent call last)",
      "\u001b[0;32m/opt/anaconda3/lib/python3.8/site-packages/bayes_opt/target_space.py\u001b[0m in \u001b[0;36mprobe\u001b[0;34m(self, params)\u001b[0m\n\u001b[1;32m    190\u001b[0m         \u001b[0;32mtry\u001b[0m\u001b[0;34m:\u001b[0m\u001b[0;34m\u001b[0m\u001b[0;34m\u001b[0m\u001b[0m\n\u001b[0;32m--> 191\u001b[0;31m             \u001b[0mtarget\u001b[0m \u001b[0;34m=\u001b[0m \u001b[0mself\u001b[0m\u001b[0;34m.\u001b[0m\u001b[0m_cache\u001b[0m\u001b[0;34m[\u001b[0m\u001b[0m_hashable\u001b[0m\u001b[0;34m(\u001b[0m\u001b[0mx\u001b[0m\u001b[0;34m)\u001b[0m\u001b[0;34m]\u001b[0m\u001b[0;34m\u001b[0m\u001b[0;34m\u001b[0m\u001b[0m\n\u001b[0m\u001b[1;32m    192\u001b[0m         \u001b[0;32mexcept\u001b[0m \u001b[0mKeyError\u001b[0m\u001b[0;34m:\u001b[0m\u001b[0;34m\u001b[0m\u001b[0;34m\u001b[0m\u001b[0m\n",
      "\u001b[0;31mKeyError\u001b[0m: (0.8838718390004432, 0.032041642747724516, 417.5404288209922, 142.0026729032723, 466.23675506305966)",
      "\nDuring handling of the above exception, another exception occurred:\n",
      "\u001b[0;31mKeyboardInterrupt\u001b[0m                         Traceback (most recent call last)",
      "\u001b[0;32m<ipython-input-16-1f1ffebee9a6>\u001b[0m in \u001b[0;36m<module>\u001b[0;34m\u001b[0m\n\u001b[1;32m     10\u001b[0m     }, random_state=231)\n\u001b[1;32m     11\u001b[0m \u001b[0;34m\u001b[0m\u001b[0m\n\u001b[0;32m---> 12\u001b[0;31m \u001b[0mregBO\u001b[0m\u001b[0;34m.\u001b[0m\u001b[0mmaximize\u001b[0m\u001b[0;34m(\u001b[0m\u001b[0minit_points\u001b[0m\u001b[0;34m=\u001b[0m\u001b[0;36m5\u001b[0m\u001b[0;34m,\u001b[0m \u001b[0mn_iter\u001b[0m\u001b[0;34m=\u001b[0m\u001b[0;36m100\u001b[0m\u001b[0;34m)\u001b[0m\u001b[0;34m\u001b[0m\u001b[0;34m\u001b[0m\u001b[0m\n\u001b[0m",
      "\u001b[0;32m/opt/anaconda3/lib/python3.8/site-packages/bayes_opt/bayesian_optimization.py\u001b[0m in \u001b[0;36mmaximize\u001b[0;34m(self, init_points, n_iter, acq, kappa, kappa_decay, kappa_decay_delay, xi, **gp_params)\u001b[0m\n\u001b[1;32m    183\u001b[0m                 \u001b[0miteration\u001b[0m \u001b[0;34m+=\u001b[0m \u001b[0;36m1\u001b[0m\u001b[0;34m\u001b[0m\u001b[0;34m\u001b[0m\u001b[0m\n\u001b[1;32m    184\u001b[0m \u001b[0;34m\u001b[0m\u001b[0m\n\u001b[0;32m--> 185\u001b[0;31m             \u001b[0mself\u001b[0m\u001b[0;34m.\u001b[0m\u001b[0mprobe\u001b[0m\u001b[0;34m(\u001b[0m\u001b[0mx_probe\u001b[0m\u001b[0;34m,\u001b[0m \u001b[0mlazy\u001b[0m\u001b[0;34m=\u001b[0m\u001b[0;32mFalse\u001b[0m\u001b[0;34m)\u001b[0m\u001b[0;34m\u001b[0m\u001b[0;34m\u001b[0m\u001b[0m\n\u001b[0m\u001b[1;32m    186\u001b[0m \u001b[0;34m\u001b[0m\u001b[0m\n\u001b[1;32m    187\u001b[0m             \u001b[0;32mif\u001b[0m \u001b[0mself\u001b[0m\u001b[0;34m.\u001b[0m\u001b[0m_bounds_transformer\u001b[0m\u001b[0;34m:\u001b[0m\u001b[0;34m\u001b[0m\u001b[0;34m\u001b[0m\u001b[0m\n",
      "\u001b[0;32m/opt/anaconda3/lib/python3.8/site-packages/bayes_opt/bayesian_optimization.py\u001b[0m in \u001b[0;36mprobe\u001b[0;34m(self, params, lazy)\u001b[0m\n\u001b[1;32m    114\u001b[0m             \u001b[0mself\u001b[0m\u001b[0;34m.\u001b[0m\u001b[0m_queue\u001b[0m\u001b[0;34m.\u001b[0m\u001b[0madd\u001b[0m\u001b[0;34m(\u001b[0m\u001b[0mparams\u001b[0m\u001b[0;34m)\u001b[0m\u001b[0;34m\u001b[0m\u001b[0;34m\u001b[0m\u001b[0m\n\u001b[1;32m    115\u001b[0m         \u001b[0;32melse\u001b[0m\u001b[0;34m:\u001b[0m\u001b[0;34m\u001b[0m\u001b[0;34m\u001b[0m\u001b[0m\n\u001b[0;32m--> 116\u001b[0;31m             \u001b[0mself\u001b[0m\u001b[0;34m.\u001b[0m\u001b[0m_space\u001b[0m\u001b[0;34m.\u001b[0m\u001b[0mprobe\u001b[0m\u001b[0;34m(\u001b[0m\u001b[0mparams\u001b[0m\u001b[0;34m)\u001b[0m\u001b[0;34m\u001b[0m\u001b[0;34m\u001b[0m\u001b[0m\n\u001b[0m\u001b[1;32m    117\u001b[0m             \u001b[0mself\u001b[0m\u001b[0;34m.\u001b[0m\u001b[0mdispatch\u001b[0m\u001b[0;34m(\u001b[0m\u001b[0mEvents\u001b[0m\u001b[0;34m.\u001b[0m\u001b[0mOPTIMIZATION_STEP\u001b[0m\u001b[0;34m)\u001b[0m\u001b[0;34m\u001b[0m\u001b[0;34m\u001b[0m\u001b[0m\n\u001b[1;32m    118\u001b[0m \u001b[0;34m\u001b[0m\u001b[0m\n",
      "\u001b[0;32m/opt/anaconda3/lib/python3.8/site-packages/bayes_opt/target_space.py\u001b[0m in \u001b[0;36mprobe\u001b[0;34m(self, params)\u001b[0m\n\u001b[1;32m    192\u001b[0m         \u001b[0;32mexcept\u001b[0m \u001b[0mKeyError\u001b[0m\u001b[0;34m:\u001b[0m\u001b[0;34m\u001b[0m\u001b[0;34m\u001b[0m\u001b[0m\n\u001b[1;32m    193\u001b[0m             \u001b[0mparams\u001b[0m \u001b[0;34m=\u001b[0m \u001b[0mdict\u001b[0m\u001b[0;34m(\u001b[0m\u001b[0mzip\u001b[0m\u001b[0;34m(\u001b[0m\u001b[0mself\u001b[0m\u001b[0;34m.\u001b[0m\u001b[0m_keys\u001b[0m\u001b[0;34m,\u001b[0m \u001b[0mx\u001b[0m\u001b[0;34m)\u001b[0m\u001b[0;34m)\u001b[0m\u001b[0;34m\u001b[0m\u001b[0;34m\u001b[0m\u001b[0m\n\u001b[0;32m--> 194\u001b[0;31m             \u001b[0mtarget\u001b[0m \u001b[0;34m=\u001b[0m \u001b[0mself\u001b[0m\u001b[0;34m.\u001b[0m\u001b[0mtarget_func\u001b[0m\u001b[0;34m(\u001b[0m\u001b[0;34m**\u001b[0m\u001b[0mparams\u001b[0m\u001b[0;34m)\u001b[0m\u001b[0;34m\u001b[0m\u001b[0;34m\u001b[0m\u001b[0m\n\u001b[0m\u001b[1;32m    195\u001b[0m             \u001b[0mself\u001b[0m\u001b[0;34m.\u001b[0m\u001b[0mregister\u001b[0m\u001b[0;34m(\u001b[0m\u001b[0mx\u001b[0m\u001b[0;34m,\u001b[0m \u001b[0mtarget\u001b[0m\u001b[0;34m)\u001b[0m\u001b[0;34m\u001b[0m\u001b[0;34m\u001b[0m\u001b[0m\n\u001b[1;32m    196\u001b[0m         \u001b[0;32mreturn\u001b[0m \u001b[0mtarget\u001b[0m\u001b[0;34m\u001b[0m\u001b[0;34m\u001b[0m\u001b[0m\n",
      "\u001b[0;32m<ipython-input-11-55ccd6e765f6>\u001b[0m in \u001b[0;36mlgbm_cv\u001b[0;34m(colsample_bytree, learning_rate, max_depth, n_estimators, num_leaves, x_data, y_data, n_splits, output)\u001b[0m\n\u001b[1;32m     22\u001b[0m         )\n\u001b[1;32m     23\u001b[0m \u001b[0;34m\u001b[0m\u001b[0m\n\u001b[0;32m---> 24\u001b[0;31m         \u001b[0mmodel\u001b[0m\u001b[0;34m.\u001b[0m\u001b[0mfit\u001b[0m\u001b[0;34m(\u001b[0m\u001b[0mx_train\u001b[0m\u001b[0;34m,\u001b[0m \u001b[0my_train\u001b[0m\u001b[0;34m)\u001b[0m\u001b[0;34m\u001b[0m\u001b[0;34m\u001b[0m\u001b[0m\n\u001b[0m\u001b[1;32m     25\u001b[0m         \u001b[0mmodels\u001b[0m\u001b[0;34m.\u001b[0m\u001b[0mappend\u001b[0m\u001b[0;34m(\u001b[0m\u001b[0mmodel\u001b[0m\u001b[0;34m)\u001b[0m\u001b[0;34m\u001b[0m\u001b[0;34m\u001b[0m\u001b[0m\n\u001b[1;32m     26\u001b[0m \u001b[0;34m\u001b[0m\u001b[0m\n",
      "\u001b[0;32m/opt/anaconda3/lib/python3.8/site-packages/lightgbm/sklearn.py\u001b[0m in \u001b[0;36mfit\u001b[0;34m(self, X, y, sample_weight, init_score, eval_set, eval_names, eval_sample_weight, eval_class_weight, eval_init_score, eval_metric, early_stopping_rounds, verbose, feature_name, categorical_feature, callbacks, init_model)\u001b[0m\n\u001b[1;32m    845\u001b[0m                     \u001b[0mvalid_sets\u001b[0m\u001b[0;34m[\u001b[0m\u001b[0mi\u001b[0m\u001b[0;34m]\u001b[0m \u001b[0;34m=\u001b[0m \u001b[0;34m(\u001b[0m\u001b[0mvalid_x\u001b[0m\u001b[0;34m,\u001b[0m \u001b[0mself\u001b[0m\u001b[0;34m.\u001b[0m\u001b[0m_le\u001b[0m\u001b[0;34m.\u001b[0m\u001b[0mtransform\u001b[0m\u001b[0;34m(\u001b[0m\u001b[0mvalid_y\u001b[0m\u001b[0;34m)\u001b[0m\u001b[0;34m)\u001b[0m\u001b[0;34m\u001b[0m\u001b[0;34m\u001b[0m\u001b[0m\n\u001b[1;32m    846\u001b[0m \u001b[0;34m\u001b[0m\u001b[0m\n\u001b[0;32m--> 847\u001b[0;31m         super(LGBMClassifier, self).fit(X, _y, sample_weight=sample_weight,\n\u001b[0m\u001b[1;32m    848\u001b[0m                                         \u001b[0minit_score\u001b[0m\u001b[0;34m=\u001b[0m\u001b[0minit_score\u001b[0m\u001b[0;34m,\u001b[0m \u001b[0meval_set\u001b[0m\u001b[0;34m=\u001b[0m\u001b[0mvalid_sets\u001b[0m\u001b[0;34m,\u001b[0m\u001b[0;34m\u001b[0m\u001b[0;34m\u001b[0m\u001b[0m\n\u001b[1;32m    849\u001b[0m                                         \u001b[0meval_names\u001b[0m\u001b[0;34m=\u001b[0m\u001b[0meval_names\u001b[0m\u001b[0;34m,\u001b[0m\u001b[0;34m\u001b[0m\u001b[0;34m\u001b[0m\u001b[0m\n",
      "\u001b[0;32m/opt/anaconda3/lib/python3.8/site-packages/lightgbm/sklearn.py\u001b[0m in \u001b[0;36mfit\u001b[0;34m(self, X, y, sample_weight, init_score, group, eval_set, eval_names, eval_sample_weight, eval_class_weight, eval_init_score, eval_group, eval_metric, early_stopping_rounds, verbose, feature_name, categorical_feature, callbacks, init_model)\u001b[0m\n\u001b[1;32m    610\u001b[0m             \u001b[0minit_model\u001b[0m \u001b[0;34m=\u001b[0m \u001b[0minit_model\u001b[0m\u001b[0;34m.\u001b[0m\u001b[0mbooster_\u001b[0m\u001b[0;34m\u001b[0m\u001b[0;34m\u001b[0m\u001b[0m\n\u001b[1;32m    611\u001b[0m \u001b[0;34m\u001b[0m\u001b[0m\n\u001b[0;32m--> 612\u001b[0;31m         self._Booster = train(params, train_set,\n\u001b[0m\u001b[1;32m    613\u001b[0m                               \u001b[0mself\u001b[0m\u001b[0;34m.\u001b[0m\u001b[0mn_estimators\u001b[0m\u001b[0;34m,\u001b[0m \u001b[0mvalid_sets\u001b[0m\u001b[0;34m=\u001b[0m\u001b[0mvalid_sets\u001b[0m\u001b[0;34m,\u001b[0m \u001b[0mvalid_names\u001b[0m\u001b[0;34m=\u001b[0m\u001b[0meval_names\u001b[0m\u001b[0;34m,\u001b[0m\u001b[0;34m\u001b[0m\u001b[0;34m\u001b[0m\u001b[0m\n\u001b[1;32m    614\u001b[0m                               \u001b[0mearly_stopping_rounds\u001b[0m\u001b[0;34m=\u001b[0m\u001b[0mearly_stopping_rounds\u001b[0m\u001b[0;34m,\u001b[0m\u001b[0;34m\u001b[0m\u001b[0;34m\u001b[0m\u001b[0m\n",
      "\u001b[0;32m/opt/anaconda3/lib/python3.8/site-packages/lightgbm/engine.py\u001b[0m in \u001b[0;36mtrain\u001b[0;34m(params, train_set, num_boost_round, valid_sets, valid_names, fobj, feval, init_model, feature_name, categorical_feature, early_stopping_rounds, evals_result, verbose_eval, learning_rates, keep_training_booster, callbacks)\u001b[0m\n\u001b[1;32m    250\u001b[0m                                     evaluation_result_list=None))\n\u001b[1;32m    251\u001b[0m \u001b[0;34m\u001b[0m\u001b[0m\n\u001b[0;32m--> 252\u001b[0;31m         \u001b[0mbooster\u001b[0m\u001b[0;34m.\u001b[0m\u001b[0mupdate\u001b[0m\u001b[0;34m(\u001b[0m\u001b[0mfobj\u001b[0m\u001b[0;34m=\u001b[0m\u001b[0mfobj\u001b[0m\u001b[0;34m)\u001b[0m\u001b[0;34m\u001b[0m\u001b[0;34m\u001b[0m\u001b[0m\n\u001b[0m\u001b[1;32m    253\u001b[0m \u001b[0;34m\u001b[0m\u001b[0m\n\u001b[1;32m    254\u001b[0m         \u001b[0mevaluation_result_list\u001b[0m \u001b[0;34m=\u001b[0m \u001b[0;34m[\u001b[0m\u001b[0;34m]\u001b[0m\u001b[0;34m\u001b[0m\u001b[0;34m\u001b[0m\u001b[0m\n",
      "\u001b[0;32m/opt/anaconda3/lib/python3.8/site-packages/lightgbm/basic.py\u001b[0m in \u001b[0;36mupdate\u001b[0;34m(self, train_set, fobj)\u001b[0m\n\u001b[1;32m   2456\u001b[0m             \u001b[0;32mif\u001b[0m \u001b[0mself\u001b[0m\u001b[0;34m.\u001b[0m\u001b[0m__set_objective_to_none\u001b[0m\u001b[0;34m:\u001b[0m\u001b[0;34m\u001b[0m\u001b[0;34m\u001b[0m\u001b[0m\n\u001b[1;32m   2457\u001b[0m                 \u001b[0;32mraise\u001b[0m \u001b[0mLightGBMError\u001b[0m\u001b[0;34m(\u001b[0m\u001b[0;34m'Cannot update due to null objective function.'\u001b[0m\u001b[0;34m)\u001b[0m\u001b[0;34m\u001b[0m\u001b[0;34m\u001b[0m\u001b[0m\n\u001b[0;32m-> 2458\u001b[0;31m             _safe_call(_LIB.LGBM_BoosterUpdateOneIter(\n\u001b[0m\u001b[1;32m   2459\u001b[0m                 \u001b[0mself\u001b[0m\u001b[0;34m.\u001b[0m\u001b[0mhandle\u001b[0m\u001b[0;34m,\u001b[0m\u001b[0;34m\u001b[0m\u001b[0;34m\u001b[0m\u001b[0m\n\u001b[1;32m   2460\u001b[0m                 ctypes.byref(is_finished)))\n",
      "\u001b[0;31mKeyboardInterrupt\u001b[0m: "
     ]
    }
   ],
   "source": [
    "func_fixed = partial(lgbm_cv, x_data=train_x, y_data=train_y, n_splits=5, output=\"score\")\n",
    "regBO = BayesianOptimization(\n",
    "    func_fixed, \n",
    "    {\n",
    "         'colsample_bytree' : (0.1,1),\n",
    "         'learning_rate' : (0.01, 0.1),\n",
    "         \"max_depth\" : (0,1000),\n",
    "         \"n_estimators\" : (100,200),\n",
    "         \"num_leaves\" : (0,600),\n",
    "    }, random_state=231)\n",
    "\n",
    "regBO.maximize(init_points=5, n_iter=100)"
   ]
  },
  {
   "cell_type": "code",
   "execution_count": null,
   "metadata": {
    "id": "B42lg_RKmJA1"
   },
   "outputs": [],
   "source": [
    "params = regBO.max['params']"
   ]
  },
  {
   "cell_type": "code",
   "execution_count": null,
   "metadata": {
    "colab": {
     "base_uri": "https://localhost:8080/"
    },
    "executionInfo": {
     "elapsed": 717,
     "status": "ok",
     "timestamp": 1610373285349,
     "user": {
      "displayName": "suebin",
      "photoUrl": "",
      "userId": "12546302886493983985"
     },
     "user_tz": -540
    },
    "id": "A8nytmEvmW9x",
    "outputId": "eb613e6a-97af-42cb-cd56-ced8865f562f"
   },
   "outputs": [
    {
     "data": {
      "text/plain": [
       "{'colsample_bytree': 0.9532847935680113,\n",
       " 'learning_rate': 0.09278453605939078,\n",
       " 'max_depth': 578.1033906895178,\n",
       " 'n_estimators': 39.602849442683194,\n",
       " 'num_leaves': 413.07521762936597}"
      ]
     },
     "execution_count": 87,
     "metadata": {
      "tags": []
     },
     "output_type": "execute_result"
    }
   ],
   "source": [
    "params"
   ]
  },
  {
   "cell_type": "code",
   "execution_count": null,
   "metadata": {
    "id": "WDIRiU9kmQFO"
   },
   "outputs": [],
   "source": [
    "models = lgbm_cv(\n",
    "    params['colsample_bytree'], \n",
    "    params['learning_rate'],\n",
    "    params[\"max_depth\"],\n",
    "    params[\"n_estimators\"],\n",
    "    params[\"num_leaves\"],\n",
    "    x_data=train_x, y_data=train_y, n_splits=5, output='model')"
   ]
  },
  {
   "cell_type": "markdown",
   "metadata": {
    "id": "Wbowf_9r2CYM"
   },
   "source": [
    "# 5. 제출 파일 생성"
   ]
  },
  {
   "cell_type": "code",
   "execution_count": null,
   "metadata": {
    "colab": {
     "base_uri": "https://localhost:8080/",
     "height": 202
    },
    "executionInfo": {
     "elapsed": 9736,
     "status": "ok",
     "timestamp": 1610373304783,
     "user": {
      "displayName": "suebin",
      "photoUrl": "",
      "userId": "12546302886493983985"
     },
     "user_tz": -540
    },
    "id": "9veyDzEB2CYM",
    "outputId": "7d3e8d76-944a-43dc-dd85-f3a3d51adf4c"
   },
   "outputs": [
    {
     "data": {
      "text/html": [
       "<div>\n",
       "<style scoped>\n",
       "    .dataframe tbody tr th:only-of-type {\n",
       "        vertical-align: middle;\n",
       "    }\n",
       "\n",
       "    .dataframe tbody tr th {\n",
       "        vertical-align: top;\n",
       "    }\n",
       "\n",
       "    .dataframe thead th {\n",
       "        text-align: right;\n",
       "    }\n",
       "</style>\n",
       "<table border=\"1\" class=\"dataframe\">\n",
       "  <thead>\n",
       "    <tr style=\"text-align: right;\">\n",
       "      <th></th>\n",
       "      <th>user_id</th>\n",
       "      <th>time</th>\n",
       "      <th>model_nm</th>\n",
       "      <th>fwver</th>\n",
       "      <th>errtype</th>\n",
       "      <th>errcode</th>\n",
       "    </tr>\n",
       "  </thead>\n",
       "  <tbody>\n",
       "    <tr>\n",
       "      <th>0</th>\n",
       "      <td>30000</td>\n",
       "      <td>20201101030227</td>\n",
       "      <td>model_1</td>\n",
       "      <td>04.16.3553</td>\n",
       "      <td>31</td>\n",
       "      <td>1</td>\n",
       "    </tr>\n",
       "    <tr>\n",
       "      <th>1</th>\n",
       "      <td>30000</td>\n",
       "      <td>20201101030227</td>\n",
       "      <td>model_1</td>\n",
       "      <td>04.16.3553</td>\n",
       "      <td>33</td>\n",
       "      <td>2</td>\n",
       "    </tr>\n",
       "    <tr>\n",
       "      <th>2</th>\n",
       "      <td>30000</td>\n",
       "      <td>20201101030228</td>\n",
       "      <td>model_1</td>\n",
       "      <td>04.16.3553</td>\n",
       "      <td>15</td>\n",
       "      <td>1</td>\n",
       "    </tr>\n",
       "    <tr>\n",
       "      <th>3</th>\n",
       "      <td>30000</td>\n",
       "      <td>20201101030256</td>\n",
       "      <td>model_1</td>\n",
       "      <td>04.16.3553</td>\n",
       "      <td>22</td>\n",
       "      <td>1</td>\n",
       "    </tr>\n",
       "    <tr>\n",
       "      <th>4</th>\n",
       "      <td>30000</td>\n",
       "      <td>20201101030300</td>\n",
       "      <td>model_1</td>\n",
       "      <td>04.16.3553</td>\n",
       "      <td>11</td>\n",
       "      <td>1</td>\n",
       "    </tr>\n",
       "  </tbody>\n",
       "</table>\n",
       "</div>"
      ],
      "text/plain": [
       "   user_id            time model_nm       fwver  errtype errcode\n",
       "0    30000  20201101030227  model_1  04.16.3553       31       1\n",
       "1    30000  20201101030227  model_1  04.16.3553       33       2\n",
       "2    30000  20201101030228  model_1  04.16.3553       15       1\n",
       "3    30000  20201101030256  model_1  04.16.3553       22       1\n",
       "4    30000  20201101030300  model_1  04.16.3553       11       1"
      ]
     },
     "metadata": {
      "tags": []
     },
     "output_type": "display_data"
    }
   ],
   "source": [
    "test_err  = pd.read_csv(PATH+'test_err_data.csv')\n",
    "display(test_err.head())"
   ]
  },
  {
   "cell_type": "code",
   "execution_count": null,
   "metadata": {
    "id": "xnfD9DZD0Zdy"
   },
   "outputs": [],
   "source": []
  },
  {
   "cell_type": "code",
   "execution_count": null,
   "metadata": {
    "id": "JN6xNp7l2CYM"
   },
   "outputs": [],
   "source": [
    "# 데이터 설명을 확인하면\n",
    "# test 데이터는 ueser_id가 30000부터 44998까지 총 14999개가 존재.\n",
    "test_user_id_max = 44998\n",
    "test_user_id_min = 30000\n",
    "test_user_number = 14999"
   ]
  },
  {
   "cell_type": "code",
   "execution_count": null,
   "metadata": {
    "colab": {
     "base_uri": "https://localhost:8080/"
    },
    "executionInfo": {
     "elapsed": 46013,
     "status": "ok",
     "timestamp": 1610373345500,
     "user": {
      "displayName": "suebin",
      "photoUrl": "",
      "userId": "12546302886493983985"
     },
     "user_tz": -540
    },
    "id": "AiYPEbd42CYM",
    "outputId": "331df3e5-42d5-4075-ce0f-22b73b842252"
   },
   "outputs": [
    {
     "name": "stderr",
     "output_type": "stream",
     "text": [
      "100%|██████████| 16532648/16532648 [00:40<00:00, 404165.80it/s]"
     ]
    },
    {
     "name": "stdout",
     "output_type": "stream",
     "text": [
      "(14999, 42)\n"
     ]
    },
    {
     "name": "stderr",
     "output_type": "stream",
     "text": [
      "\n"
     ]
    }
   ],
   "source": [
    "id_error = test_err[['user_id','errtype']].values\n",
    "test_x = np.zeros((test_user_number,42))\n",
    "for person_idx, err in tqdm(id_error):\n",
    "    # person_idx - test_user_id_min 위치에 person_idx, errtype에 해당하는 error값을 +1\n",
    "    test_x[person_idx - test_user_id_min,err - 1] += 1\n",
    "test_x = test_x.reshape(test_x.shape[0],-1)\n",
    "print(test_x.shape)"
   ]
  },
  {
   "cell_type": "code",
   "execution_count": null,
   "metadata": {
    "id": "DKtSTIed2CYN"
   },
   "outputs": [],
   "source": [
    "# 예측\n",
    "pred_y_list = []\n",
    "for model in models:\n",
    "    pred_y = model.predict(test_x)\n",
    "    pred_y_list.append(pred_y.reshape(-1,1))\n",
    "    \n",
    "pred_ensemble = np.mean(pred_y_list, axis = 0)"
   ]
  },
  {
   "cell_type": "code",
   "execution_count": null,
   "metadata": {
    "colab": {
     "base_uri": "https://localhost:8080/"
    },
    "executionInfo": {
     "elapsed": 44096,
     "status": "ok",
     "timestamp": 1610373345877,
     "user": {
      "displayName": "suebin",
      "photoUrl": "",
      "userId": "12546302886493983985"
     },
     "user_tz": -540
    },
    "id": "JxRFI9rx2CYN",
    "outputId": "d7f1c5d8-9fd7-42cf-9bfa-2057ca611d14"
   },
   "outputs": [
    {
     "data": {
      "text/plain": [
       "array([[1. ],\n",
       "       [0. ],\n",
       "       [0. ],\n",
       "       ...,\n",
       "       [0.6],\n",
       "       [1. ],\n",
       "       [0.2]])"
      ]
     },
     "execution_count": 93,
     "metadata": {
      "tags": []
     },
     "output_type": "execute_result"
    }
   ],
   "source": [
    "pred_ensemble"
   ]
  },
  {
   "cell_type": "code",
   "execution_count": null,
   "metadata": {
    "id": "dMMm5_lD2CYN"
   },
   "outputs": [],
   "source": [
    "sample_submssion = pd.read_csv(PATH+'sample_submission.csv')"
   ]
  },
  {
   "cell_type": "code",
   "execution_count": null,
   "metadata": {
    "id": "ASTNn4m-2CYN"
   },
   "outputs": [],
   "source": [
    "sample_submssion['problem'] = pred_ensemble.reshape(-1)"
   ]
  },
  {
   "cell_type": "code",
   "execution_count": null,
   "metadata": {
    "colab": {
     "base_uri": "https://localhost:8080/",
     "height": 415
    },
    "executionInfo": {
     "elapsed": 424,
     "status": "ok",
     "timestamp": 1610373346539,
     "user": {
      "displayName": "suebin",
      "photoUrl": "",
      "userId": "12546302886493983985"
     },
     "user_tz": -540
    },
    "id": "gCaNJ8B52CYO",
    "outputId": "14d50c27-0747-4cd7-9ae9-de0c7e276c9c",
    "scrolled": true
   },
   "outputs": [
    {
     "data": {
      "text/html": [
       "<div>\n",
       "<style scoped>\n",
       "    .dataframe tbody tr th:only-of-type {\n",
       "        vertical-align: middle;\n",
       "    }\n",
       "\n",
       "    .dataframe tbody tr th {\n",
       "        vertical-align: top;\n",
       "    }\n",
       "\n",
       "    .dataframe thead th {\n",
       "        text-align: right;\n",
       "    }\n",
       "</style>\n",
       "<table border=\"1\" class=\"dataframe\">\n",
       "  <thead>\n",
       "    <tr style=\"text-align: right;\">\n",
       "      <th></th>\n",
       "      <th>user_id</th>\n",
       "      <th>problem</th>\n",
       "    </tr>\n",
       "  </thead>\n",
       "  <tbody>\n",
       "    <tr>\n",
       "      <th>0</th>\n",
       "      <td>30000</td>\n",
       "      <td>1.0</td>\n",
       "    </tr>\n",
       "    <tr>\n",
       "      <th>1</th>\n",
       "      <td>30001</td>\n",
       "      <td>0.0</td>\n",
       "    </tr>\n",
       "    <tr>\n",
       "      <th>2</th>\n",
       "      <td>30002</td>\n",
       "      <td>0.0</td>\n",
       "    </tr>\n",
       "    <tr>\n",
       "      <th>3</th>\n",
       "      <td>30003</td>\n",
       "      <td>1.0</td>\n",
       "    </tr>\n",
       "    <tr>\n",
       "      <th>4</th>\n",
       "      <td>30004</td>\n",
       "      <td>1.0</td>\n",
       "    </tr>\n",
       "    <tr>\n",
       "      <th>...</th>\n",
       "      <td>...</td>\n",
       "      <td>...</td>\n",
       "    </tr>\n",
       "    <tr>\n",
       "      <th>14994</th>\n",
       "      <td>44994</td>\n",
       "      <td>0.0</td>\n",
       "    </tr>\n",
       "    <tr>\n",
       "      <th>14995</th>\n",
       "      <td>44995</td>\n",
       "      <td>0.0</td>\n",
       "    </tr>\n",
       "    <tr>\n",
       "      <th>14996</th>\n",
       "      <td>44996</td>\n",
       "      <td>0.6</td>\n",
       "    </tr>\n",
       "    <tr>\n",
       "      <th>14997</th>\n",
       "      <td>44997</td>\n",
       "      <td>1.0</td>\n",
       "    </tr>\n",
       "    <tr>\n",
       "      <th>14998</th>\n",
       "      <td>44998</td>\n",
       "      <td>0.2</td>\n",
       "    </tr>\n",
       "  </tbody>\n",
       "</table>\n",
       "<p>14999 rows × 2 columns</p>\n",
       "</div>"
      ],
      "text/plain": [
       "       user_id  problem\n",
       "0        30000      1.0\n",
       "1        30001      0.0\n",
       "2        30002      0.0\n",
       "3        30003      1.0\n",
       "4        30004      1.0\n",
       "...        ...      ...\n",
       "14994    44994      0.0\n",
       "14995    44995      0.0\n",
       "14996    44996      0.6\n",
       "14997    44997      1.0\n",
       "14998    44998      0.2\n",
       "\n",
       "[14999 rows x 2 columns]"
      ]
     },
     "execution_count": 96,
     "metadata": {
      "tags": []
     },
     "output_type": "execute_result"
    }
   ],
   "source": [
    "SUB_PATH = '/content/drive/MyDrive/YBIGTA/21-1 겨울방학/lg 품질변화 공모전/quality_change_prediction/submissions/'\n",
    "sample_submssion.to_csv(SUB_PATH+\"dacon_baseline_0111(3).csv\", index = False)\n",
    "sample_submssion"
   ]
  },
  {
   "cell_type": "code",
   "execution_count": null,
   "metadata": {
    "id": "bhW5GoCIHgGA"
   },
   "outputs": [],
   "source": []
  }
 ],
 "metadata": {
  "accelerator": "GPU",
  "colab": {
   "collapsed_sections": [],
   "name": "lgbm_bayesian opt.ipynb",
   "provenance": [],
   "toc_visible": true
  },
  "kernelspec": {
   "display_name": "Python 3",
   "language": "python",
   "name": "python3"
  },
  "language_info": {
   "codemirror_mode": {
    "name": "ipython",
    "version": 3
   },
   "file_extension": ".py",
   "mimetype": "text/x-python",
   "name": "python",
   "nbconvert_exporter": "python",
   "pygments_lexer": "ipython3",
   "version": "3.8.5"
  },
  "toc": {
   "base_numbering": 1,
   "nav_menu": {},
   "number_sections": false,
   "sideBar": true,
   "skip_h1_title": false,
   "title_cell": "Table of Contents",
   "title_sidebar": "Contents",
   "toc_cell": false,
   "toc_position": {},
   "toc_section_display": true,
   "toc_window_display": false
  }
 },
 "nbformat": 4,
 "nbformat_minor": 4
}
