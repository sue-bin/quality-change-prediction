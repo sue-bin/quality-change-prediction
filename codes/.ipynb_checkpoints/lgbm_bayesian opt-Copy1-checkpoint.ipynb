{
 "cells": [
  {
   "cell_type": "markdown",
   "metadata": {
    "id": "FuYzChII2CX6"
   },
   "source": [
    "## 목차\n",
    "### 1. Library Import\n",
    "### 2. 학습데이터 생성\n",
    "### 3. Light-gbm 모델 훈련\n",
    "### 4. 교차 검증 점수 확인\n",
    "### 5. 제출 파일 생성"
   ]
  },
  {
   "cell_type": "markdown",
   "metadata": {
    "id": "1_ITsfQJ2CYC"
   },
   "source": [
    "# 1. Library Import"
   ]
  },
  {
   "cell_type": "code",
   "execution_count": 2,
   "metadata": {
    "executionInfo": {
     "elapsed": 8898,
     "status": "ok",
     "timestamp": 1612006293581,
     "user": {
      "displayName": "suebin",
      "photoUrl": "",
      "userId": "12546302886493983985"
     },
     "user_tz": -540
    },
    "id": "w9Icd66g2CYD"
   },
   "outputs": [],
   "source": [
    "import pandas as pd\n",
    "import numpy as np\n",
    "import datetime as dt\n",
    "import matplotlib.pyplot as plt\n",
    "from tqdm import tqdm\n",
    "import gc #garbage collection 감시\n",
    "import random\n",
    "import lightgbm as lgb\n",
    "import re\n",
    "from sklearn.metrics import *\n",
    "from sklearn.model_selection import KFold\n",
    "import warnings\n",
    "import seaborn as sns\n",
    "from functools import partial\n",
    "from bayes_opt import BayesianOptimization\n",
    "from lightgbm import LGBMClassifier\n",
    "\n",
    "warnings.filterwarnings(action='ignore')\n",
    "\n",
    "# 필요한 함수 정의\n",
    "def make_datetime(x):\n",
    "    # string 타입의 Time column을 datetime 타입으로 변경\n",
    "    x     = str(x)\n",
    "    year  = int(x[:4])\n",
    "    month = int(x[4:6])\n",
    "    day   = int(x[6:8])\n",
    "    hour  = int(x[8:10])\n",
    "    min  = int(x[10:12])\n",
    "    sec  = int(x[12:])\n",
    "    return dt.datetime(year, month, day, hour)\n",
    "\n",
    "def string2num(x):\n",
    "    # (,)( )과 같은 불필요한 데이터 정제\n",
    "    x = re.sub(r\"[^0-9]+\", '', str(x))\n",
    "    if x =='':\n",
    "        return 0\n",
    "    else:\n",
    "        return int(x)"
   ]
  },
  {
   "cell_type": "markdown",
   "metadata": {
    "id": "I4WUJPJ_2CYE"
   },
   "source": [
    "# 2. 학습 데이터 생성"
   ]
  },
  {
   "cell_type": "markdown",
   "metadata": {
    "id": "ICxPhxNo2CYF"
   },
   "source": [
    "## 2.1 train_err\n",
    "\n",
    "* train_err_data.csv 파일의 errtype column의 value_counts를 카운트하여 학습에 사용.  \n",
    "* 주어진 기간동안 user_id별로 peroblem가 한 번이라도 발생했는 지를 확인.  "
   ]
  },
  {
   "cell_type": "code",
   "execution_count": 3,
   "metadata": {},
   "outputs": [],
   "source": [
    "train = pd.read_csv(\"data/quality 수정.csv\")\n",
    "test = pd.read_csv(\"data/quality 수정_test.csv\")"
   ]
  },
  {
   "cell_type": "code",
   "execution_count": 4,
   "metadata": {},
   "outputs": [
    {
     "data": {
      "text/plain": [
       "Index(['Unnamed: 0', 'user_id', 'model_nm', 'update', 'err_1', 'err_2',\n",
       "       'err_3', 'err_4', 'err_5', 'err_6', 'err_7', 'err_8', 'err_9', 'err_10',\n",
       "       'err_11', 'err_12', 'err_13', 'err_14', 'err_15', 'err_16', 'err_17',\n",
       "       'err_18', 'err_19', 'err_20', 'err_21', 'err_22', 'err_23', 'err_24',\n",
       "       'err_25', 'err_26', 'err_27', 'err_28', 'err_30', 'err_31', 'err_32',\n",
       "       'err_33', 'err_34', 'err_35', 'err_36', 'err_37', 'err_38', 'err_39',\n",
       "       'err_40', 'err_41', 'err_42', 'fw_rank', 'q_meanmax_0', 'q_meanmax_1',\n",
       "       'q_meanmax_2', 'q_meanmax_5', 'q_meanmax_6', 'q_meanmax_7',\n",
       "       'q_meanmax_8', 'q_meanmax_9', 'q_meanmax_10', 'q_meanmax_11',\n",
       "       'q_meanmax_12', 'q_chg_0', 'q_chg_1', 'q_chg_2', 'q_chg_5', 'q_chg_6',\n",
       "       'q_chg_11', 'label'],\n",
       "      dtype='object')"
      ]
     },
     "execution_count": 4,
     "metadata": {},
     "output_type": "execute_result"
    }
   ],
   "source": [
    "train.columns"
   ]
  },
  {
   "cell_type": "code",
   "execution_count": 6,
   "metadata": {
    "colab": {
     "base_uri": "https://localhost:8080/",
     "height": 376
    },
    "executionInfo": {
     "elapsed": 690,
     "status": "error",
     "timestamp": 1612006562961,
     "user": {
      "displayName": "suebin",
      "photoUrl": "",
      "userId": "12546302886493983985"
     },
     "user_tz": -540
    },
    "id": "PMRRu4Ua2CYK",
    "outputId": "c010b10a-0cf5-425b-9b13-5fbbe9efad71"
   },
   "outputs": [
    {
     "ename": "SyntaxError",
     "evalue": "invalid syntax (<ipython-input-6-3ab075723488>, line 2)",
     "output_type": "error",
     "traceback": [
      "\u001b[0;36m  File \u001b[0;32m\"<ipython-input-6-3ab075723488>\"\u001b[0;36m, line \u001b[0;32m2\u001b[0m\n\u001b[0;31m    train_y = train[\"label\"]\u001b[0m\n\u001b[0m    ^\u001b[0m\n\u001b[0;31mSyntaxError\u001b[0m\u001b[0;31m:\u001b[0m invalid syntax\n"
     ]
    }
   ],
   "source": [
    "train_x = train.drop(columns=[\"label\",\"Unnamed: 0\",\"user_id\"]\n",
    "train_y = train[\"label\"]\n",
    "\n",
    "test_x = train.drop(columns=[\"Unnamed: 0\",\"user_id\"]"
   ]
  },
  {
   "cell_type": "code",
   "execution_count": 7,
   "metadata": {
    "id": "WsQAG09scbTH"
   },
   "outputs": [],
   "source": [
    "def lgbm_cv(colsample_bytree, \n",
    "            learning_rate,\n",
    "            max_depth,\n",
    "            n_estimators,\n",
    "            num_leaves,\n",
    "          x_data=None, y_data=None, n_splits=5, output='score'):\n",
    "    \n",
    "    score = 0\n",
    "    kf = KFold(n_splits=n_splits, random_state=1029)\n",
    "    models = []\n",
    "    for train_index, valid_index in kf.split(x_data):\n",
    "        x_train, y_train = x_data.iloc[train_index,:], y_data[train_index]\n",
    "        x_valid, y_valid = x_data.iloc[valid_index,:], y_data[valid_index]\n",
    "\n",
    "        model = LGBMClassifier(\n",
    "            colsample_bytree = colsample_bytree,\n",
    "            learning_rate = learning_rate,\n",
    "            max_depth = int(max_depth),\n",
    "            n_estimators = int(n_estimators),\n",
    "            num_leaves = int(num_leaves)                        \n",
    "        )\n",
    "        \n",
    "        model.fit(x_train, y_train)\n",
    "        models.append(model)\n",
    "        \n",
    "        prob = model.predict(x_valid)\n",
    "        pred = np.where(prob > 0.5, 1, 0)\n",
    "        true = y_valid\n",
    "        score += roc_auc_score(true, pred)/n_splits\n",
    "    \n",
    "    if output == 'score':\n",
    "        return score\n",
    "    if output == 'model':\n",
    "        return models"
   ]
  },
  {
   "cell_type": "code",
   "execution_count": 8,
   "metadata": {
    "colab": {
     "base_uri": "https://localhost:8080/"
    },
    "executionInfo": {
     "elapsed": 382546,
     "status": "ok",
     "timestamp": 1610373256884,
     "user": {
      "displayName": "suebin",
      "photoUrl": "",
      "userId": "12546302886493983985"
     },
     "user_tz": -540
    },
    "id": "5wD-bOHykuxN",
    "outputId": "d5589355-3525-4c3a-f23d-9ec97610ccfa"
   },
   "outputs": [
    {
     "ename": "SyntaxError",
     "evalue": "leading zeros in decimal integer literals are not permitted; use an 0o prefix for octal integers (<ipython-input-8-c0390fdf5dc6>, line 6)",
     "output_type": "error",
     "traceback": [
      "\u001b[0;36m  File \u001b[0;32m\"<ipython-input-8-c0390fdf5dc6>\"\u001b[0;36m, line \u001b[0;32m6\u001b[0m\n\u001b[0;31m    'learning_rate'05(0.01, 0.1),\u001b[0m\n\u001b[0m                    ^\u001b[0m\n\u001b[0;31mSyntaxError\u001b[0m\u001b[0;31m:\u001b[0m leading zeros in decimal integer literals are not permitted; use an 0o prefix for octal integers\n"
     ]
    }
   ],
   "source": [
    "func_fixed = partial(lgbm_cv, x_data=train_x, y_data=train_y, n_splits=5, output=\"score\")\n",
    "regBO = BayesianOptimization(\n",
    "    func_fixed, \n",
    "    {\n",
    "         'colsample_bytree' : (0.5,1),\n",
    "         'learning_rate'05(0.01, 0.1),\n",
    "         \"max_depth\" : (200,700),\n",
    "         \"n_estimators\" : (30,50),\n",
    "         \"num_leaves\" : (200,600),\n",
    "    }, random_state=1029)\n",
    "\n",
    "regBO.maximize(init_points=100, n_iter=0)"
   ]
  },
  {
   "cell_type": "code",
   "execution_count": null,
   "metadata": {
    "id": "B42lg_RKmJA1"
   },
   "outputs": [],
   "source": [
    "params = regBO.max['params']"
   ]
  },
  {
   "cell_type": "code",
   "execution_count": null,
   "metadata": {
    "colab": {
     "base_uri": "https://localhost:8080/"
    },
    "executionInfo": {
     "elapsed": 717,
     "status": "ok",
     "timestamp": 1610373285349,
     "user": {
      "displayName": "suebin",
      "photoUrl": "",
      "userId": "12546302886493983985"
     },
     "user_tz": -540
    },
    "id": "A8nytmEvmW9x",
    "outputId": "eb613e6a-97af-42cb-cd56-ced8865f562f"
   },
   "outputs": [
    {
     "data": {
      "text/plain": [
       "{'colsample_bytree': 0.9532847935680113,\n",
       " 'learning_rate': 0.09278453605939078,\n",
       " 'max_depth': 578.1033906895178,\n",
       " 'n_estimators': 39.602849442683194,\n",
       " 'num_leaves': 413.07521762936597}"
      ]
     },
     "execution_count": 87,
     "metadata": {
      "tags": []
     },
     "output_type": "execute_result"
    }
   ],
   "source": [
    "params"
   ]
  },
  {
   "cell_type": "code",
   "execution_count": null,
   "metadata": {
    "id": "WDIRiU9kmQFO"
   },
   "outputs": [],
   "source": [
    "models = lgbm_cv(\n",
    "    params['colsample_bytree'], \n",
    "    params['learning_rate'],\n",
    "    params[\"max_depth\"],\n",
    "    params[\"n_estimators\"],\n",
    "    params[\"num_leaves\"],\n",
    "    x_data=train_x, y_data=train_y, n_splits=5, output='model')"
   ]
  },
  {
   "cell_type": "markdown",
   "metadata": {
    "id": "Wbowf_9r2CYM"
   },
   "source": [
    "# 5. 제출 파일 생성"
   ]
  },
  {
   "cell_type": "code",
   "execution_count": null,
   "metadata": {
    "colab": {
     "base_uri": "https://localhost:8080/",
     "height": 202
    },
    "executionInfo": {
     "elapsed": 9736,
     "status": "ok",
     "timestamp": 1610373304783,
     "user": {
      "displayName": "suebin",
      "photoUrl": "",
      "userId": "12546302886493983985"
     },
     "user_tz": -540
    },
    "id": "9veyDzEB2CYM",
    "outputId": "7d3e8d76-944a-43dc-dd85-f3a3d51adf4c"
   },
   "outputs": [
    {
     "data": {
      "text/html": [
       "<div>\n",
       "<style scoped>\n",
       "    .dataframe tbody tr th:only-of-type {\n",
       "        vertical-align: middle;\n",
       "    }\n",
       "\n",
       "    .dataframe tbody tr th {\n",
       "        vertical-align: top;\n",
       "    }\n",
       "\n",
       "    .dataframe thead th {\n",
       "        text-align: right;\n",
       "    }\n",
       "</style>\n",
       "<table border=\"1\" class=\"dataframe\">\n",
       "  <thead>\n",
       "    <tr style=\"text-align: right;\">\n",
       "      <th></th>\n",
       "      <th>user_id</th>\n",
       "      <th>time</th>\n",
       "      <th>model_nm</th>\n",
       "      <th>fwver</th>\n",
       "      <th>errtype</th>\n",
       "      <th>errcode</th>\n",
       "    </tr>\n",
       "  </thead>\n",
       "  <tbody>\n",
       "    <tr>\n",
       "      <th>0</th>\n",
       "      <td>30000</td>\n",
       "      <td>20201101030227</td>\n",
       "      <td>model_1</td>\n",
       "      <td>04.16.3553</td>\n",
       "      <td>31</td>\n",
       "      <td>1</td>\n",
       "    </tr>\n",
       "    <tr>\n",
       "      <th>1</th>\n",
       "      <td>30000</td>\n",
       "      <td>20201101030227</td>\n",
       "      <td>model_1</td>\n",
       "      <td>04.16.3553</td>\n",
       "      <td>33</td>\n",
       "      <td>2</td>\n",
       "    </tr>\n",
       "    <tr>\n",
       "      <th>2</th>\n",
       "      <td>30000</td>\n",
       "      <td>20201101030228</td>\n",
       "      <td>model_1</td>\n",
       "      <td>04.16.3553</td>\n",
       "      <td>15</td>\n",
       "      <td>1</td>\n",
       "    </tr>\n",
       "    <tr>\n",
       "      <th>3</th>\n",
       "      <td>30000</td>\n",
       "      <td>20201101030256</td>\n",
       "      <td>model_1</td>\n",
       "      <td>04.16.3553</td>\n",
       "      <td>22</td>\n",
       "      <td>1</td>\n",
       "    </tr>\n",
       "    <tr>\n",
       "      <th>4</th>\n",
       "      <td>30000</td>\n",
       "      <td>20201101030300</td>\n",
       "      <td>model_1</td>\n",
       "      <td>04.16.3553</td>\n",
       "      <td>11</td>\n",
       "      <td>1</td>\n",
       "    </tr>\n",
       "  </tbody>\n",
       "</table>\n",
       "</div>"
      ],
      "text/plain": [
       "   user_id            time model_nm       fwver  errtype errcode\n",
       "0    30000  20201101030227  model_1  04.16.3553       31       1\n",
       "1    30000  20201101030227  model_1  04.16.3553       33       2\n",
       "2    30000  20201101030228  model_1  04.16.3553       15       1\n",
       "3    30000  20201101030256  model_1  04.16.3553       22       1\n",
       "4    30000  20201101030300  model_1  04.16.3553       11       1"
      ]
     },
     "metadata": {
      "tags": []
     },
     "output_type": "display_data"
    }
   ],
   "source": [
    "test_err  = pd.read_csv(PATH+'test_err_data.csv')\n",
    "display(test_err.head())"
   ]
  },
  {
   "cell_type": "code",
   "execution_count": null,
   "metadata": {
    "id": "xnfD9DZD0Zdy"
   },
   "outputs": [],
   "source": []
  },
  {
   "cell_type": "code",
   "execution_count": null,
   "metadata": {
    "id": "JN6xNp7l2CYM"
   },
   "outputs": [],
   "source": [
    "# 데이터 설명을 확인하면\n",
    "# test 데이터는 ueser_id가 30000부터 44998까지 총 14999개가 존재.\n",
    "test_user_id_max = 44998\n",
    "test_user_id_min = 30000\n",
    "test_user_number = 14999"
   ]
  },
  {
   "cell_type": "code",
   "execution_count": null,
   "metadata": {
    "colab": {
     "base_uri": "https://localhost:8080/"
    },
    "executionInfo": {
     "elapsed": 46013,
     "status": "ok",
     "timestamp": 1610373345500,
     "user": {
      "displayName": "suebin",
      "photoUrl": "",
      "userId": "12546302886493983985"
     },
     "user_tz": -540
    },
    "id": "AiYPEbd42CYM",
    "outputId": "331df3e5-42d5-4075-ce0f-22b73b842252"
   },
   "outputs": [
    {
     "name": "stderr",
     "output_type": "stream",
     "text": [
      "100%|██████████| 16532648/16532648 [00:40<00:00, 404165.80it/s]"
     ]
    },
    {
     "name": "stdout",
     "output_type": "stream",
     "text": [
      "(14999, 42)\n"
     ]
    },
    {
     "name": "stderr",
     "output_type": "stream",
     "text": [
      "\n"
     ]
    }
   ],
   "source": [
    "id_error = test_err[['user_id','errtype']].values\n",
    "test_x = np.zeros((test_user_number,42))\n",
    "for person_idx, err in tqdm(id_error):\n",
    "    # person_idx - test_user_id_min 위치에 person_idx, errtype에 해당하는 error값을 +1\n",
    "    test_x[person_idx - test_user_id_min,err - 1] += 1\n",
    "test_x = test_x.reshape(test_x.shape[0],-1)\n",
    "print(test_x.shape)"
   ]
  },
  {
   "cell_type": "code",
   "execution_count": null,
   "metadata": {
    "id": "DKtSTIed2CYN"
   },
   "outputs": [],
   "source": [
    "# 예측\n",
    "pred_y_list = []\n",
    "for model in models:\n",
    "    pred_y = model.predict(test_x)\n",
    "    pred_y_list.append(pred_y.reshape(-1,1))\n",
    "    \n",
    "pred_ensemble = np.mean(pred_y_list, axis = 0)"
   ]
  },
  {
   "cell_type": "code",
   "execution_count": null,
   "metadata": {
    "colab": {
     "base_uri": "https://localhost:8080/"
    },
    "executionInfo": {
     "elapsed": 44096,
     "status": "ok",
     "timestamp": 1610373345877,
     "user": {
      "displayName": "suebin",
      "photoUrl": "",
      "userId": "12546302886493983985"
     },
     "user_tz": -540
    },
    "id": "JxRFI9rx2CYN",
    "outputId": "d7f1c5d8-9fd7-42cf-9bfa-2057ca611d14"
   },
   "outputs": [
    {
     "data": {
      "text/plain": [
       "array([[1. ],\n",
       "       [0. ],\n",
       "       [0. ],\n",
       "       ...,\n",
       "       [0.6],\n",
       "       [1. ],\n",
       "       [0.2]])"
      ]
     },
     "execution_count": 93,
     "metadata": {
      "tags": []
     },
     "output_type": "execute_result"
    }
   ],
   "source": [
    "pred_ensemble"
   ]
  },
  {
   "cell_type": "code",
   "execution_count": null,
   "metadata": {
    "id": "dMMm5_lD2CYN"
   },
   "outputs": [],
   "source": [
    "sample_submssion = pd.read_csv(PATH+'sample_submission.csv')"
   ]
  },
  {
   "cell_type": "code",
   "execution_count": null,
   "metadata": {
    "id": "ASTNn4m-2CYN"
   },
   "outputs": [],
   "source": [
    "sample_submssion['problem'] = pred_ensemble.reshape(-1)"
   ]
  },
  {
   "cell_type": "code",
   "execution_count": null,
   "metadata": {
    "colab": {
     "base_uri": "https://localhost:8080/",
     "height": 415
    },
    "executionInfo": {
     "elapsed": 424,
     "status": "ok",
     "timestamp": 1610373346539,
     "user": {
      "displayName": "suebin",
      "photoUrl": "",
      "userId": "12546302886493983985"
     },
     "user_tz": -540
    },
    "id": "gCaNJ8B52CYO",
    "outputId": "14d50c27-0747-4cd7-9ae9-de0c7e276c9c",
    "scrolled": true
   },
   "outputs": [
    {
     "data": {
      "text/html": [
       "<div>\n",
       "<style scoped>\n",
       "    .dataframe tbody tr th:only-of-type {\n",
       "        vertical-align: middle;\n",
       "    }\n",
       "\n",
       "    .dataframe tbody tr th {\n",
       "        vertical-align: top;\n",
       "    }\n",
       "\n",
       "    .dataframe thead th {\n",
       "        text-align: right;\n",
       "    }\n",
       "</style>\n",
       "<table border=\"1\" class=\"dataframe\">\n",
       "  <thead>\n",
       "    <tr style=\"text-align: right;\">\n",
       "      <th></th>\n",
       "      <th>user_id</th>\n",
       "      <th>problem</th>\n",
       "    </tr>\n",
       "  </thead>\n",
       "  <tbody>\n",
       "    <tr>\n",
       "      <th>0</th>\n",
       "      <td>30000</td>\n",
       "      <td>1.0</td>\n",
       "    </tr>\n",
       "    <tr>\n",
       "      <th>1</th>\n",
       "      <td>30001</td>\n",
       "      <td>0.0</td>\n",
       "    </tr>\n",
       "    <tr>\n",
       "      <th>2</th>\n",
       "      <td>30002</td>\n",
       "      <td>0.0</td>\n",
       "    </tr>\n",
       "    <tr>\n",
       "      <th>3</th>\n",
       "      <td>30003</td>\n",
       "      <td>1.0</td>\n",
       "    </tr>\n",
       "    <tr>\n",
       "      <th>4</th>\n",
       "      <td>30004</td>\n",
       "      <td>1.0</td>\n",
       "    </tr>\n",
       "    <tr>\n",
       "      <th>...</th>\n",
       "      <td>...</td>\n",
       "      <td>...</td>\n",
       "    </tr>\n",
       "    <tr>\n",
       "      <th>14994</th>\n",
       "      <td>44994</td>\n",
       "      <td>0.0</td>\n",
       "    </tr>\n",
       "    <tr>\n",
       "      <th>14995</th>\n",
       "      <td>44995</td>\n",
       "      <td>0.0</td>\n",
       "    </tr>\n",
       "    <tr>\n",
       "      <th>14996</th>\n",
       "      <td>44996</td>\n",
       "      <td>0.6</td>\n",
       "    </tr>\n",
       "    <tr>\n",
       "      <th>14997</th>\n",
       "      <td>44997</td>\n",
       "      <td>1.0</td>\n",
       "    </tr>\n",
       "    <tr>\n",
       "      <th>14998</th>\n",
       "      <td>44998</td>\n",
       "      <td>0.2</td>\n",
       "    </tr>\n",
       "  </tbody>\n",
       "</table>\n",
       "<p>14999 rows × 2 columns</p>\n",
       "</div>"
      ],
      "text/plain": [
       "       user_id  problem\n",
       "0        30000      1.0\n",
       "1        30001      0.0\n",
       "2        30002      0.0\n",
       "3        30003      1.0\n",
       "4        30004      1.0\n",
       "...        ...      ...\n",
       "14994    44994      0.0\n",
       "14995    44995      0.0\n",
       "14996    44996      0.6\n",
       "14997    44997      1.0\n",
       "14998    44998      0.2\n",
       "\n",
       "[14999 rows x 2 columns]"
      ]
     },
     "execution_count": 96,
     "metadata": {
      "tags": []
     },
     "output_type": "execute_result"
    }
   ],
   "source": [
    "SUB_PATH = '/content/drive/MyDrive/YBIGTA/21-1 겨울방학/lg 품질변화 공모전/quality_change_prediction/submissions/'\n",
    "sample_submssion.to_csv(SUB_PATH+\"dacon_baseline_0111(3).csv\", index = False)\n",
    "sample_submssion"
   ]
  },
  {
   "cell_type": "code",
   "execution_count": null,
   "metadata": {
    "id": "bhW5GoCIHgGA"
   },
   "outputs": [],
   "source": []
  }
 ],
 "metadata": {
  "accelerator": "GPU",
  "colab": {
   "collapsed_sections": [],
   "name": "lgbm_bayesian opt.ipynb",
   "provenance": [],
   "toc_visible": true
  },
  "kernelspec": {
   "display_name": "Python 3",
   "language": "python",
   "name": "python3"
  },
  "language_info": {
   "codemirror_mode": {
    "name": "ipython",
    "version": 3
   },
   "file_extension": ".py",
   "mimetype": "text/x-python",
   "name": "python",
   "nbconvert_exporter": "python",
   "pygments_lexer": "ipython3",
   "version": "3.8.5"
  },
  "toc": {
   "base_numbering": 1,
   "nav_menu": {},
   "number_sections": false,
   "sideBar": true,
   "skip_h1_title": false,
   "title_cell": "Table of Contents",
   "title_sidebar": "Contents",
   "toc_cell": false,
   "toc_position": {},
   "toc_section_display": true,
   "toc_window_display": false
  }
 },
 "nbformat": 4,
 "nbformat_minor": 4
}
